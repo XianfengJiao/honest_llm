{
 "cells": [
  {
   "cell_type": "code",
   "execution_count": 1,
   "metadata": {},
   "outputs": [],
   "source": [
    "import numpy as np\n",
    "import pandas as pd"
   ]
  },
  {
   "cell_type": "code",
   "execution_count": 4,
   "metadata": {},
   "outputs": [],
   "source": [
    "model_name = 'llama_7B'\n",
    "dataset_name = 'tqa_mc2'\n",
    "collect = [\n",
    "    # 'stimulus_mean',\n",
    "    # 'stimulus_ans_mean',\n",
    "    # 'stimulus_6',\n",
    "    # 'cutrandom',\n",
    "    # 'cut05',\n",
    "    # 'all_mean',\n",
    "    # 'all_ans_mean',\n",
    "    'all_100',\n",
    "    # 'all_075',\n",
    "    # 'all_050',\n",
    "    # 'all_025',\n",
    "]"
   ]
  },
  {
   "cell_type": "code",
   "execution_count": 6,
   "metadata": {},
   "outputs": [],
   "source": [
    "BLEURT_acc_list = []\n",
    "MC1_list = []\n",
    "MC2_list = []\n",
    "bleu_acc_list = []\n",
    "rouge1_acc_list = []\n",
    "CE_Loss_list = []\n",
    "KL_wrt_Orig_list = []\n",
    "pre_path = f'/data/jxf/honest_llm/validation/{model_name}_{dataset_name}'\n",
    "for clt in collect:\n",
    "    fold1_res = pd.read_csv(f'{pre_path}_{clt}/summary_{model_name}_seed_42_top_48_heads_alpha_15_fold_0_com.csv')\n",
    "    fold2_res = pd.read_csv(f'{pre_path}_{clt}/summary_{model_name}_seed_42_top_48_heads_alpha_15_fold_1_com.csv')\n",
    "    MC1_list.append((fold1_res['MC1'][0] + fold2_res['MC1'][0]) / 2)\n",
    "    MC2_list.append((fold1_res['MC2'][0] + fold2_res['MC2'][0]) / 2)\n",
    "    BLEURT_acc_list.append((fold1_res['BLEURT acc'][0] + fold2_res['BLEURT acc'][0]) / 2)\n",
    "    bleu_acc_list.append((fold1_res['bleu acc'][0] + fold2_res['bleu acc'][0]) / 2)\n",
    "    rouge1_acc_list.append((fold1_res['rouge1 acc'][0] + fold2_res['rouge1 acc'][0]) / 2)\n",
    "    CE_Loss_list.append((fold1_res['CE Loss'][0] + fold2_res['CE Loss'][0]) / 2)\n",
    "    KL_wrt_Orig_list.append((fold1_res['KL wrt Orig'][0] + fold2_res['KL wrt Orig'][0]) / 2)"
   ]
  },
  {
   "cell_type": "code",
   "execution_count": 7,
   "metadata": {},
   "outputs": [
    {
     "data": {
      "text/html": [
       "<div>\n",
       "<style scoped>\n",
       "    .dataframe tbody tr th:only-of-type {\n",
       "        vertical-align: middle;\n",
       "    }\n",
       "\n",
       "    .dataframe tbody tr th {\n",
       "        vertical-align: top;\n",
       "    }\n",
       "\n",
       "    .dataframe thead th {\n",
       "        text-align: right;\n",
       "    }\n",
       "</style>\n",
       "<table border=\"1\" class=\"dataframe\">\n",
       "  <thead>\n",
       "    <tr style=\"text-align: right;\">\n",
       "      <th></th>\n",
       "      <th>collect</th>\n",
       "      <th>MC1</th>\n",
       "      <th>MC2</th>\n",
       "      <th>BLEURT acc</th>\n",
       "      <th>bleu acc</th>\n",
       "      <th>rouge1 acc</th>\n",
       "      <th>CE Loss</th>\n",
       "      <th>KL wrt Orig</th>\n",
       "    </tr>\n",
       "  </thead>\n",
       "  <tbody>\n",
       "    <tr>\n",
       "      <th>0</th>\n",
       "      <td>all_100</td>\n",
       "      <td>0.264403</td>\n",
       "      <td>0.479999</td>\n",
       "      <td>0.684057</td>\n",
       "      <td>0.271765</td>\n",
       "      <td>0.30856</td>\n",
       "      <td>5.725361</td>\n",
       "      <td>3.647395</td>\n",
       "    </tr>\n",
       "  </tbody>\n",
       "</table>\n",
       "</div>"
      ],
      "text/plain": [
       "   collect       MC1       MC2  BLEURT acc  bleu acc  rouge1 acc   CE Loss  \\\n",
       "0  all_100  0.264403  0.479999    0.684057  0.271765     0.30856  5.725361   \n",
       "\n",
       "   KL wrt Orig  \n",
       "0     3.647395  "
      ]
     },
     "execution_count": 7,
     "metadata": {},
     "output_type": "execute_result"
    }
   ],
   "source": [
    "df = pd.DataFrame({\n",
    "        'collect':collect, \n",
    "        'MC1':MC1_list, \n",
    "        'MC2':MC2_list,\n",
    "        'BLEURT acc': BLEURT_acc_list,\n",
    "        'bleu acc':bleu_acc_list,\n",
    "        'rouge1 acc':rouge1_acc_list,\n",
    "        'CE Loss':CE_Loss_list,\n",
    "        'KL wrt Orig':KL_wrt_Orig_list\n",
    "    })\n",
    "df"
   ]
  },
  {
   "cell_type": "code",
   "execution_count": null,
   "metadata": {},
   "outputs": [],
   "source": []
  }
 ],
 "metadata": {
  "kernelspec": {
   "display_name": "iti",
   "language": "python",
   "name": "python3"
  },
  "language_info": {
   "codemirror_mode": {
    "name": "ipython",
    "version": 3
   },
   "file_extension": ".py",
   "mimetype": "text/x-python",
   "name": "python",
   "nbconvert_exporter": "python",
   "pygments_lexer": "ipython3",
   "version": "3.8.15"
  }
 },
 "nbformat": 4,
 "nbformat_minor": 2
}
