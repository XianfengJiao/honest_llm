{
 "cells": [
  {
   "cell_type": "code",
   "execution_count": 1,
   "metadata": {},
   "outputs": [],
   "source": [
    "import numpy as np\n",
    "import pandas as pd"
   ]
  },
  {
   "cell_type": "code",
   "execution_count": 2,
   "metadata": {},
   "outputs": [],
   "source": [
    "model_name = 'llama_7B'\n",
    "dataset_name = 'tqa_mc2'\n",
    "collect = [\n",
    "    'stimulus_mean',\n",
    "    'stimulus_ans_mean',\n",
    "    'stimulus_6',\n",
    "    'cutrandom',\n",
    "    'cut05',\n",
    "    'all_mean',\n",
    "    'all_ans_mean',\n",
    "    'all_100',\n",
    "    'all_075',\n",
    "    'all_050',\n",
    "    'all_025'\n",
    "]"
   ]
  },
  {
   "cell_type": "code",
   "execution_count": 3,
   "metadata": {},
   "outputs": [],
   "source": [
    "def find_max(matrix):\n",
    "    index_of_max = np.argmax(matrix)\n",
    "\n",
    "    # 将索引转换为行号和列号\n",
    "    row_of_max = index_of_max // matrix.shape[1]\n",
    "    col_of_max = index_of_max % matrix.shape[1]\n",
    "\n",
    "    return row_of_max, col_of_max, matrix[row_of_max, col_of_max]"
   ]
  },
  {
   "cell_type": "code",
   "execution_count": 4,
   "metadata": {},
   "outputs": [],
   "source": [
    "mean_accs = []\n",
    "max_accs = []\n",
    "pre_path = f'/data/wtl/honest_llm/validation/{model_name}_{dataset_name}'\n",
    "for clt in collect:\n",
    "    fold1_acc = np.load(f'{pre_path}_{clt}/fold_0_{model_name}_{dataset_name}_{clt}_head_accs.npy')\n",
    "    fold2_acc = np.load(f'{pre_path}_{clt}/fold_1_{model_name}_{dataset_name}_{clt}_head_accs.npy')\n",
    "    mean_accs.append((fold1_acc.mean()) + (fold2_acc.mean()) / 2)\n",
    "    max_accs.append((find_max(fold1_acc)[-1] + find_max(fold2_acc)[-1]) / 2)"
   ]
  },
  {
   "cell_type": "code",
   "execution_count": 5,
   "metadata": {},
   "outputs": [
    {
     "data": {
      "text/html": [
       "<div>\n",
       "<style scoped>\n",
       "    .dataframe tbody tr th:only-of-type {\n",
       "        vertical-align: middle;\n",
       "    }\n",
       "\n",
       "    .dataframe tbody tr th {\n",
       "        vertical-align: top;\n",
       "    }\n",
       "\n",
       "    .dataframe thead th {\n",
       "        text-align: right;\n",
       "    }\n",
       "</style>\n",
       "<table border=\"1\" class=\"dataframe\">\n",
       "  <thead>\n",
       "    <tr style=\"text-align: right;\">\n",
       "      <th></th>\n",
       "      <th>collect</th>\n",
       "      <th>mean_accs</th>\n",
       "      <th>max_accs</th>\n",
       "    </tr>\n",
       "  </thead>\n",
       "  <tbody>\n",
       "    <tr>\n",
       "      <th>0</th>\n",
       "      <td>stimulus_mean</td>\n",
       "      <td>0.872392</td>\n",
       "      <td>0.761116</td>\n",
       "    </tr>\n",
       "    <tr>\n",
       "      <th>1</th>\n",
       "      <td>stimulus_ans_mean</td>\n",
       "      <td>0.930075</td>\n",
       "      <td>0.788922</td>\n",
       "    </tr>\n",
       "    <tr>\n",
       "      <th>2</th>\n",
       "      <td>stimulus_6</td>\n",
       "      <td>0.942949</td>\n",
       "      <td>0.811599</td>\n",
       "    </tr>\n",
       "    <tr>\n",
       "      <th>3</th>\n",
       "      <td>cutrandom</td>\n",
       "      <td>0.861011</td>\n",
       "      <td>0.697513</td>\n",
       "    </tr>\n",
       "    <tr>\n",
       "      <th>4</th>\n",
       "      <td>cut05</td>\n",
       "      <td>0.872316</td>\n",
       "      <td>0.705145</td>\n",
       "    </tr>\n",
       "    <tr>\n",
       "      <th>5</th>\n",
       "      <td>all_mean</td>\n",
       "      <td>0.864552</td>\n",
       "      <td>0.725478</td>\n",
       "    </tr>\n",
       "    <tr>\n",
       "      <th>6</th>\n",
       "      <td>all_ans_mean</td>\n",
       "      <td>0.918303</td>\n",
       "      <td>0.775386</td>\n",
       "    </tr>\n",
       "    <tr>\n",
       "      <th>7</th>\n",
       "      <td>all_100</td>\n",
       "      <td>0.957658</td>\n",
       "      <td>0.809235</td>\n",
       "    </tr>\n",
       "    <tr>\n",
       "      <th>8</th>\n",
       "      <td>all_075</td>\n",
       "      <td>0.893877</td>\n",
       "      <td>0.739074</td>\n",
       "    </tr>\n",
       "    <tr>\n",
       "      <th>9</th>\n",
       "      <td>all_050</td>\n",
       "      <td>0.869653</td>\n",
       "      <td>0.695129</td>\n",
       "    </tr>\n",
       "    <tr>\n",
       "      <th>10</th>\n",
       "      <td>all_025</td>\n",
       "      <td>0.848280</td>\n",
       "      <td>0.660306</td>\n",
       "    </tr>\n",
       "  </tbody>\n",
       "</table>\n",
       "</div>"
      ],
      "text/plain": [
       "              collect  mean_accs  max_accs\n",
       "0       stimulus_mean   0.872392  0.761116\n",
       "1   stimulus_ans_mean   0.930075  0.788922\n",
       "2          stimulus_6   0.942949  0.811599\n",
       "3           cutrandom   0.861011  0.697513\n",
       "4               cut05   0.872316  0.705145\n",
       "5            all_mean   0.864552  0.725478\n",
       "6        all_ans_mean   0.918303  0.775386\n",
       "7             all_100   0.957658  0.809235\n",
       "8             all_075   0.893877  0.739074\n",
       "9             all_050   0.869653  0.695129\n",
       "10            all_025   0.848280  0.660306"
      ]
     },
     "execution_count": 5,
     "metadata": {},
     "output_type": "execute_result"
    }
   ],
   "source": [
    "df = pd.DataFrame({'collect':collect, 'mean_accs':mean_accs, 'max_accs':max_accs})\n",
    "df"
   ]
  }
 ],
 "metadata": {
  "kernelspec": {
   "display_name": "iti",
   "language": "python",
   "name": "python3"
  },
  "language_info": {
   "codemirror_mode": {
    "name": "ipython",
    "version": 3
   },
   "file_extension": ".py",
   "mimetype": "text/x-python",
   "name": "python",
   "nbconvert_exporter": "python",
   "pygments_lexer": "ipython3",
   "version": "3.8.15"
  }
 },
 "nbformat": 4,
 "nbformat_minor": 2
}
